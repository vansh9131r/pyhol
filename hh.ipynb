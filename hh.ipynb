{
 "cells": [
  {
   "cell_type": "markdown",
   "metadata": {
    "id": "r8f-FCzzdsO_"
   },
   "source": [
    "#  holiday homework"
   ]
  },
  {
   "cell_type": "markdown",
   "metadata": {
    "id": "KFVfUaYvdsPB"
   },
   "source": [
    "1. WAP to find no is –ve or +ve"
   ]
  },
  {
   "cell_type": "code",
   "execution_count": null,
   "metadata": {
    "id": "6BxMA8prdsPC"
   },
   "outputs": [],
   "source": [
    "a = int(input(\"enter a number \"))\n",
    "if a < 0:\n",
    "    print(\"given number is negative\")\n",
    "else:\n",
    "    print(\"given number is positive\")"
   ]
  },
  {
   "cell_type": "markdown",
   "metadata": {
    "id": "XwvKHvWTdsPD"
   },
   "source": [
    "2. WAP to find no is even and odd"
   ]
  },
  {
   "cell_type": "code",
   "execution_count": null,
   "metadata": {
    "id": "xqEe4jSQdsPE"
   },
   "outputs": [],
   "source": [
    "a = int(input(\"enter a number \"))\n",
    "if a%2 == 0:\n",
    "    print(\"given number is even\")\n",
    "else:\n",
    "    print(\"given number is odd\")"
   ]
  },
  {
   "cell_type": "markdown",
   "metadata": {
    "id": "LCdDQRRidsPF"
   },
   "source": [
    "3. WAP to find Person is senior citizen or not, input age"
   ]
  },
  {
   "cell_type": "code",
   "execution_count": null,
   "metadata": {
    "id": "7_9tubU2dsPF"
   },
   "outputs": [],
   "source": [
    "a = int(input(\"enter your age \"))\n",
    "if a == 60 or a > 60:\n",
    "    print(\"you fall under the category of senior citizen\")\n",
    "else:\n",
    "    print(\"you do not fall in the category of senior citizen\")"
   ]
  },
  {
   "cell_type": "markdown",
   "metadata": {
    "id": "ETCxU9FEdsPG"
   },
   "source": [
    "4. WAP to check whether a number is divisible by 5 and 11 or not"
   ]
  },
  {
   "cell_type": "code",
   "source": [
    "a = int(input(\"enter a number \"))\n",
    "if a%5 == 0 and a%11 == 0:\n",
    "  print(\"given number is divisible by both 11 and 5\")\n",
    "else:\n",
    "  print(\"given number is not divisible by 11 and 5\")"
   ],
   "metadata": {
    "id": "XzSdu0f0d713"
   },
   "execution_count": null,
   "outputs": []
  },
  {
   "cell_type": "markdown",
   "source": [
    "5. WAP to display Digit in words (0 to 9)\n"
   ],
   "metadata": {
    "id": "P51OqQnKeQ46"
   }
  },
  {
   "cell_type": "code",
   "source": [
    "a = int(input(\"enter a number \"))\n",
    "if a == 0:\n",
    "    print(\"entered number is zero\")\n",
    "elif a == 1:\n",
    "    print(\"entered number is one\")\n",
    "elif a == 2:\n",
    "    print(\"entered number is two\")\n",
    "elif a ==3:\n",
    "    print(\"entered number is three\")\n",
    "elif a ==4:\n",
    "    print(\"entered number is four\")\n",
    "elif a ==5:\n",
    "    print(\"entered number is five\")\n",
    "elif a == 6:\n",
    "    print(\"entered number is six\")\n",
    "elif a == 7:\n",
    "    print(\"entered number is seven\")\n",
    "elif a == 8:\n",
    "    print(\"entered number is eight\")\n",
    "elif a == 9:\n",
    "    print(\"entered number is nine\")\n",
    "else:\n",
    "    print(\"error\")"
   ],
   "metadata": {
    "colab": {
     "base_uri": "https://localhost:8080/"
    },
    "id": "Y1HHBorieWj4",
    "outputId": "636549c7-0c91-4008-ddda-21f115be0b43"
   },
   "execution_count": null,
   "outputs": [
    {
     "output_type": "stream",
     "name": "stdout",
     "text": [
      "enter a number 9\n",
      "entered number is nine\n"
     ]
    }
   ]
  },
  {
   "cell_type": "markdown",
   "source": [
    "6. WAP to Check given character is vowel or not."
   ],
   "metadata": {
    "id": "V1TSgs5Ee4Ia"
   }
  },
  {
   "cell_type": "code",
   "source": [
    "a = input(\"enter a character \")\n",
    "if a == \"a\" or a == \"e\" or a == \"i\" or a == \"o\" or a == \"u\":\n",
    "  print(\"a is a vowel\")"
   ],
   "metadata": {
    "colab": {
     "base_uri": "https://localhost:8080/"
    },
    "id": "-3lvhEpKfGNC",
    "outputId": "3a4f9b31-4d48-4fae-d7da-19d1c1ee62d7"
   },
   "execution_count": null,
   "outputs": [
    {
     "output_type": "stream",
     "name": "stdout",
     "text": [
      "enter a charactera\n",
      "a is a vowel\n"
     ]
    }
   ]
  },
  {
   "cell_type": "markdown",
   "source": [
    "7. A company decided to give bonus of 5% to employee if his/her year of service is more than 5 years.\n",
    "Ask user for their salary and year of service and print the net bonus amount."
   ],
   "metadata": {
    "id": "a58WChraf4Tm"
   }
  },
  {
   "cell_type": "code",
   "source": [
    "a = int(input(\"number of years since you have joined our company \"))\n",
    "b = int(input(\"input your current salary \"))\n",
    "if a >= 5:\n",
    "    bonus = (5/100)*b\n",
    "print(\"your net bonus amount is :\" , bonus)\n",
    "net_salary = b + bonus\n",
    "print(\"your net_salary is :\" , net_salary)\n"
   ],
   "metadata": {
    "id": "ybm4iYMXf9RL",
    "ExecuteTime": {
     "end_time": "2024-05-19T07:56:52.198404Z",
     "start_time": "2024-05-19T07:56:47.069757Z"
    }
   },
   "outputs": [
    {
     "name": "stdout",
     "output_type": "stream",
     "text": [
      "your net bonus amount is : 35000000.0\n",
      "735000000.0\n"
     ]
    }
   ],
   "execution_count": 4
  },
  {
   "metadata": {},
   "cell_type": "markdown",
   "source": [
    "8. A student will not be allowed to sit in exam if his/her attendence is less than 75%.\n",
    "Take following input from user\n",
    "(Number of classes held\n",
    "Number of classes attended.\n",
    "And print\n",
    "percentage of class attended\n",
    "is student is allowed to sit in exam or not.)\n"
   ]
  },
  {
   "metadata": {},
   "cell_type": "markdown",
   "source": ""
  },
  {
   "metadata": {
    "ExecuteTime": {
     "end_time": "2024-05-19T08:04:38.521658Z",
     "start_time": "2024-05-19T08:04:32.319370Z"
    }
   },
   "cell_type": "code",
   "source": [
    "a = int(input(\"number of classes held for the school year :\"))\n",
    "b = int(input(\"enter the number of classes attended by the studend :\"))\n",
    "percentage = (b/a)*100\n",
    "print(\"your attendence percentage is :\" , percentage)\n",
    "if percentage >= 75:\n",
    "    print(\"you are allowed to sit for the test\")\n",
    "else:\n",
    "    print(\"you are not allowed to sit for the test\")"
   ],
   "outputs": [
    {
     "name": "stdout",
     "output_type": "stream",
     "text": [
      "your attendence percentage is : 80.0\n",
      "you are allowed to sit for the test\n"
     ]
    }
   ],
   "execution_count": 6
  },
  {
   "metadata": {},
   "cell_type": "markdown",
   "source": [
    "9. Ask user to enter age, sex ( M or F ), marital status ( Y or N ) and then using following rules print their\n",
    "place of service.\n",
    "### if employee is female, then she will work only in urban areas.\n",
    "### if employee is a male and age is in between 20 to 40 then he may work in anywhere\n",
    "### if employee is male and age is in between 40 t0 60 then he will work in urban areas only"
   ]
  },
  {
   "metadata": {
    "ExecuteTime": {
     "end_time": "2024-05-20T10:07:41.194239Z",
     "start_time": "2024-05-20T10:07:38.162051Z"
    }
   },
   "cell_type": "code",
   "source": [
    "a = int(input(\"enter your age\"))\n",
    "b = input(\"enter your sex\")\n",
    "c = input(\"enter your marital status\")\n",
    "if b == \"F\":\n",
    "    print(\"your place of work is only in urban areas\")\n",
    "elif b == \"M\" and a < 20 and a > 40:\n",
    "    print(\"your place of work can be anywhere\")\n",
    "elif b == \"M\" and a < 40 and a > 60:\n",
    "    print(\"your place of work can be only in urban areas\")\n",
    "else:\n",
    "    print(\"ERROR\")"
   ],
   "outputs": [
    {
     "ename": "ValueError",
     "evalue": "invalid literal for int() with base 10: ''",
     "output_type": "error",
     "traceback": [
      "\u001B[0;31m---------------------------------------------------------------------------\u001B[0m",
      "\u001B[0;31mValueError\u001B[0m                                Traceback (most recent call last)",
      "Cell \u001B[0;32mIn[1], line 1\u001B[0m\n\u001B[0;32m----> 1\u001B[0m a \u001B[38;5;241m=\u001B[39m \u001B[38;5;28;43mint\u001B[39;49m\u001B[43m(\u001B[49m\u001B[38;5;28;43minput\u001B[39;49m\u001B[43m(\u001B[49m\u001B[38;5;124;43m\"\u001B[39;49m\u001B[38;5;124;43menter your age\u001B[39;49m\u001B[38;5;124;43m\"\u001B[39;49m\u001B[43m)\u001B[49m\u001B[43m)\u001B[49m\n\u001B[1;32m      2\u001B[0m b \u001B[38;5;241m=\u001B[39m \u001B[38;5;28minput\u001B[39m(\u001B[38;5;124m\"\u001B[39m\u001B[38;5;124menter your sex\u001B[39m\u001B[38;5;124m\"\u001B[39m)\n\u001B[1;32m      3\u001B[0m c \u001B[38;5;241m=\u001B[39m \u001B[38;5;28minput\u001B[39m(\u001B[38;5;124m\"\u001B[39m\u001B[38;5;124menter your marital status\u001B[39m\u001B[38;5;124m\"\u001B[39m)\n",
      "\u001B[0;31mValueError\u001B[0m: invalid literal for int() with base 10: ''"
     ]
    }
   ],
   "execution_count": 1
  },
  {
   "metadata": {},
   "cell_type": "markdown",
   "source": [
    "\n",
    "10.WAP to Assign a stream to student according:\n",
    "Marks obtained in diff. subject\n",
    "Stream\n",
    "# Eng., Maths and Science >=80%\n",
    "### Pure Science\n",
    "Eng., and Science >=80%, Maths>=60%\n",
    "### Bio. Science\n",
    "Eng., Maths and Science >=60%\n",
    "### Commerce"
   ]
  },
  {
   "metadata": {},
   "cell_type": "code",
   "outputs": [],
   "execution_count": null,
   "source": ""
  }
 ],
 "metadata": {
  "kernelspec": {
   "display_name": "Python 3",
   "language": "python",
   "name": "python3"
  },
  "language_info": {
   "codemirror_mode": {
    "name": "ipython",
    "version": 3
   },
   "file_extension": ".py",
   "mimetype": "text/x-python",
   "name": "python",
   "nbconvert_exporter": "python",
   "pygments_lexer": "ipython3",
   "version": "3.12.3"
  },
  "colab": {
   "provenance": [],
   "toc_visible": true
  }
 },
 "nbformat": 4,
 "nbformat_minor": 0
}
